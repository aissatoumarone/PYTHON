{
 "cells": [
  {
   "cell_type": "code",
   "execution_count": null,
   "id": "c59ed93a",
   "metadata": {},
   "outputs": [],
   "source": [
    "#exercice 2\n",
    "x = int (input(\"saisissez un nombre please:\"))\n",
    "if (x % 2 == 0):\n",
    "    print(x, \"est un nombre pair\")\n",
    "else:\n",
    "    print(x, \"est un nombre impair\")"
   ]
  },
  {
   "cell_type": "code",
   "execution_count": null,
   "id": "49210c9b",
   "metadata": {},
   "outputs": [],
   "source": [
    "#exercice 3\n",
    "for i in range(2000,3201):\n",
    "  if (i % 7 == 0 and i % 5 != 0):\n",
    "   print(i, end = \" \")\n",
    "\n"
   ]
  },
  {
   "cell_type": "code",
   "execution_count": null,
   "id": "519c3b2a",
   "metadata": {},
   "outputs": [],
   "source": [
    "#exercice1\n",
    "x = int(input(\"saisissez un nombre :\"))\n",
    "fact = 1\n",
    "for i in range(1,x+1):\n",
    " fact = fact*i\n",
    "print(\"la factorielle de\" , x ,\":\",fact)\n",
    "\n",
    "\n"
   ]
  },
  {
   "cell_type": "code",
   "execution_count": null,
   "id": "f1122aad",
   "metadata": {},
   "outputs": [],
   "source": [
    "#exercice 4\n",
    "a = input(\"saisir une chaine :\")\n",
    "b = \"\"\n",
    "for i in range(len(a)):\n",
    "    if i % 2 == 0 :\n",
    "        b += a[i]\n",
    "print(b)\n"
   ]
  },
  {
   "cell_type": "code",
   "execution_count": null,
   "id": "1fcf120f",
   "metadata": {},
   "outputs": [],
   "source": [
    "#exercice 1\n",
    "n = input(\"saisir un nombre :\")\n",
    "nn = n+n\n",
    "nnn = n+nn\n",
    "somme = int(n) + int(nn) + int(nnn)\n",
    "print(somme , \"(\", int(n) ,\"+\", int(nn) ,\"+\",int(nnn),\")\")\n",
    "\n"
   ]
  }
 ],
 "metadata": {
  "kernelspec": {
   "display_name": "Python 3 (ipykernel)",
   "language": "python",
   "name": "python3"
  },
  "language_info": {
   "codemirror_mode": {
    "name": "ipython",
    "version": 3
   },
   "file_extension": ".py",
   "mimetype": "text/x-python",
   "name": "python",
   "nbconvert_exporter": "python",
   "pygments_lexer": "ipython3",
   "version": "3.9.12"
  }
 },
 "nbformat": 4,
 "nbformat_minor": 5
}
